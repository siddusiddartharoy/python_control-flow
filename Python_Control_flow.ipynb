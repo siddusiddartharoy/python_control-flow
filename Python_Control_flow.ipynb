{
  "nbformat": 4,
  "nbformat_minor": 0,
  "metadata": {
    "colab": {
      "provenance": []
    },
    "kernelspec": {
      "name": "python3",
      "display_name": "Python 3"
    },
    "language_info": {
      "name": "python"
    }
  },
  "cells": [
    {
      "cell_type": "code",
      "execution_count": null,
      "metadata": {
        "id": "11_qiZr62wNg"
      },
      "outputs": [],
      "source": [
        "# BASIC IF-ELSE STATEMENTS"
      ]
    },
    {
      "cell_type": "code",
      "source": [
        "# Write a Python program to check if a given number is positive or negative.\n",
        "number = int(input(\"Enter a number: \"))\n",
        "if number > 0:\n",
        "    print(\"Positive number\")\n",
        "elif number < 0:\n",
        "    print(\"Negative number\")\n",
        "else:\n",
        "    print(\"Zero\")\n"
      ],
      "metadata": {
        "colab": {
          "base_uri": "https://localhost:8080/"
        },
        "id": "iF9k0-_f25GL",
        "outputId": "d81f45ed-7212-438b-af4a-892c94db23cd"
      },
      "execution_count": null,
      "outputs": [
        {
          "output_type": "stream",
          "name": "stdout",
          "text": [
            "Enter a number: 2\n",
            "Positive number\n"
          ]
        }
      ]
    },
    {
      "cell_type": "code",
      "source": [
        "# Create a program that determines if a person is eligible to vote based on their age.\n",
        "age = int(input(\"Enter your age: \"))\n",
        "if age >= 18:\n",
        "    print(\"You are eligible to vote.\")\n",
        "else:\n",
        "    print(\"You are not eligible to vote yet.\")\n"
      ],
      "metadata": {
        "colab": {
          "base_uri": "https://localhost:8080/"
        },
        "id": "_isJT4r83Ajl",
        "outputId": "64ee3a2c-e7f3-446b-9a68-7c22558d2f76"
      },
      "execution_count": null,
      "outputs": [
        {
          "output_type": "stream",
          "name": "stdout",
          "text": [
            "Enter your age: 18\n",
            "You are eligible to vote.\n"
          ]
        }
      ]
    },
    {
      "cell_type": "code",
      "source": [
        "# Develop a program to find the maximum of two numbers using if-else statements.\n",
        "num1 = float(input(\"Enter the first number: \"))\n",
        "num2 = float(input(\"Enter the second number: \"))\n",
        "if num1 > num2:\n",
        "    print(\"Maximum:\", num1)\n",
        "else:\n",
        "    print(\"Maximum:\", num2)\n"
      ],
      "metadata": {
        "colab": {
          "base_uri": "https://localhost:8080/"
        },
        "id": "Y2CZqXTh3IBD",
        "outputId": "38a0b265-19e6-4381-c12e-3c62085b84f7"
      },
      "execution_count": null,
      "outputs": [
        {
          "output_type": "stream",
          "name": "stdout",
          "text": [
            "Enter the first number: 45\n",
            "Enter the second number: 24\n",
            "Maximum: 45.0\n"
          ]
        }
      ]
    },
    {
      "cell_type": "code",
      "source": [
        "# Write a Python script to classify a given year as a leap year or not.\n",
        "year = int(input(\"Enter a year: \"))\n",
        "if (year % 4 == 0 and year % 100 != 0) or (year % 400 == 0):\n",
        "    print(\"Leap year\")\n",
        "else:\n",
        "    print(\"Not a leap year\")\n"
      ],
      "metadata": {
        "colab": {
          "base_uri": "https://localhost:8080/"
        },
        "id": "3BalpO-g3KYb",
        "outputId": "20b16472-bf0f-4b9b-e652-a370930aded3"
      },
      "execution_count": null,
      "outputs": [
        {
          "output_type": "stream",
          "name": "stdout",
          "text": [
            "Enter a year: 1225\n",
            "Not a leap year\n"
          ]
        }
      ]
    },
    {
      "cell_type": "code",
      "source": [
        "# Create a program that checks whether a character is a vowel or a consonant.\n",
        "char = input(\"Enter a character: \").lower()\n",
        "if char.isalpha() and char in 'aeiou':\n",
        "    print(\"Vowel\")\n",
        "else:\n",
        "    print(\"Consonant\")\n"
      ],
      "metadata": {
        "colab": {
          "base_uri": "https://localhost:8080/"
        },
        "id": "D3VV0_hG3N8Y",
        "outputId": "34d3798f-ade3-468d-ac0b-c2814d73cb0d"
      },
      "execution_count": null,
      "outputs": [
        {
          "output_type": "stream",
          "name": "stdout",
          "text": [
            "Enter a character: b\n",
            "Consonant\n"
          ]
        }
      ]
    },
    {
      "cell_type": "code",
      "source": [
        "# Implement a program to determine whether a given number is even or odd.\n",
        "number = int(input(\"Enter a number: \"))\n",
        "if number % 2 == 0:\n",
        "    print(\"Even\")\n",
        "else:\n",
        "    print(\"Odd\")\n"
      ],
      "metadata": {
        "colab": {
          "base_uri": "https://localhost:8080/"
        },
        "id": "BGRZbKAP3QqL",
        "outputId": "dcc61ee7-bd7e-459f-e8a1-f4b9a90cefd1"
      },
      "execution_count": null,
      "outputs": [
        {
          "output_type": "stream",
          "name": "stdout",
          "text": [
            "Enter a number: 54\n",
            "Even\n"
          ]
        }
      ]
    },
    {
      "cell_type": "code",
      "source": [
        "# Write a Python function to calculate the absolute value of a number without using the abs() function.\n",
        "def absolute_value(num):\n",
        "    if num < 0:\n",
        "        return -num\n",
        "    return num\n",
        "\n",
        "number = float(input(\"Enter a number: \"))\n",
        "print(\"Absolute value:\", absolute_value(number))\n"
      ],
      "metadata": {
        "colab": {
          "base_uri": "https://localhost:8080/"
        },
        "id": "8WETwdpc4BzP",
        "outputId": "e224d1ab-9087-4a26-e329-edfd9cc1a693"
      },
      "execution_count": null,
      "outputs": [
        {
          "output_type": "stream",
          "name": "stdout",
          "text": [
            "Enter a number: -58\n",
            "Absolute value: 58.0\n"
          ]
        }
      ]
    },
    {
      "cell_type": "code",
      "source": [
        "# Develop a program that determines the largest of three given numbers using if-else statements.\n",
        "num1 = float(input(\"Enter the first number: \"))\n",
        "num2 = float(input(\"Enter the second number: \"))\n",
        "num3 = float(input(\"Enter the third number: \"))\n",
        "if num1 >= num2 and num1 >= num3:\n",
        "    print(\"Largest:\", num1)\n",
        "elif num2 >= num1 and num2 >= num3:\n",
        "    print(\"Largest:\", num2)\n",
        "else:\n",
        "    print(\"Largest:\", num3)\n"
      ],
      "metadata": {
        "colab": {
          "base_uri": "https://localhost:8080/"
        },
        "id": "fA1gprHe4Euu",
        "outputId": "584bbb06-5c8f-46d8-9653-6963e7b65a10"
      },
      "execution_count": null,
      "outputs": [
        {
          "output_type": "stream",
          "name": "stdout",
          "text": [
            "Enter the first number: 54\n",
            "Enter the second number: 15\n",
            "Enter the third number: 65\n",
            "Largest: 65.0\n"
          ]
        }
      ]
    },
    {
      "cell_type": "code",
      "source": [
        "# Create a program that checks if a given string is a palindrome.\n",
        "string = input(\"Enter a string: \").lower()\n",
        "if string == string[::-1]:\n",
        "    print(\"Palindrome\")\n",
        "else:\n",
        "    print(\"Not a palindrome\")\n"
      ],
      "metadata": {
        "colab": {
          "base_uri": "https://localhost:8080/"
        },
        "id": "Ig12gCy94JqC",
        "outputId": "5fb2a94e-5f23-44eb-966e-cca824df0b7f"
      },
      "execution_count": null,
      "outputs": [
        {
          "output_type": "stream",
          "name": "stdout",
          "text": [
            "Enter a string: haah\n",
            "Palindrome\n"
          ]
        }
      ]
    },
    {
      "cell_type": "code",
      "source": [
        "# Write a Python program to calculate the grade based on a student's score.\n",
        "score = int(input(\"Enter the student's score: \"))\n",
        "if 90 <= score <= 100:\n",
        "    print(\"Grade: A\")\n",
        "elif 80 <= score < 90:\n",
        "    print(\"Grade: B\")\n",
        "elif 70 <= score < 80:\n",
        "    print(\"Grade: C\")\n",
        "elif 60 <= score < 70:\n",
        "    print(\"Grade: D\")\n",
        "else:\n",
        "    print(\"Grade: F\")\n"
      ],
      "metadata": {
        "colab": {
          "base_uri": "https://localhost:8080/"
        },
        "id": "xqGlsfnv4Qhe",
        "outputId": "93c2c5be-7c0b-495a-8dd9-824c4d21b0f7"
      },
      "execution_count": null,
      "outputs": [
        {
          "output_type": "stream",
          "name": "stdout",
          "text": [
            "Enter the student's score: 95\n",
            "Grade: A\n"
          ]
        }
      ]
    },
    {
      "cell_type": "code",
      "source": [
        "# Nested If-Else Statements:"
      ],
      "metadata": {
        "id": "0Cjigo-g4TpT"
      },
      "execution_count": null,
      "outputs": []
    },
    {
      "cell_type": "code",
      "source": [
        "# Write a program to find the largest among three numbers using nested if-else statements.\n",
        "num1 = float(input(\"Enter the first number: \"))\n",
        "num2 = float(input(\"Enter the second number: \"))\n",
        "num3 = float(input(\"Enter the third number: \"))\n",
        "if num1 >= num2:\n",
        "    if num1 >= num3:\n",
        "        print(\"Largest:\", num1)\n",
        "    else:\n",
        "        print(\"Largest:\", num3)\n",
        "else:\n",
        "    if num2 >= num3:\n",
        "        print(\"Largest:\", num2)\n",
        "    else:\n",
        "        print(\"Largest:\", num3)\n"
      ],
      "metadata": {
        "colab": {
          "base_uri": "https://localhost:8080/"
        },
        "id": "e7zzr9fi5JgV",
        "outputId": "699ed66c-0d00-4c7d-c8c9-c8a2c8586c3e"
      },
      "execution_count": null,
      "outputs": [
        {
          "output_type": "stream",
          "name": "stdout",
          "text": [
            "Enter the first number: 54\n",
            "Enter the second number: 54\n",
            "Enter the third number: 54\n",
            "Largest: 54.0\n"
          ]
        }
      ]
    },
    {
      "cell_type": "code",
      "source": [
        "# Implement a program to determine if a triangle is equilateral, isosceles, or scalene.\n",
        "side1 = float(input(\"Enter the length of side 1: \"))\n",
        "side2 = float(input(\"Enter the length of side 2: \"))\n",
        "side3 = float(input(\"Enter the length of side 3: \"))\n",
        "\n",
        "if side1 == side2 == side3:\n",
        "    print(\"Equilateral triangle\")\n",
        "elif side1 == side2 or side1 == side3 or side2 == side3:\n",
        "    print(\"Isosceles triangle\")\n",
        "else:\n",
        "    print(\"Scalene triangle\")\n"
      ],
      "metadata": {
        "colab": {
          "base_uri": "https://localhost:8080/"
        },
        "id": "EKqBAhPb60FC",
        "outputId": "5a16aee1-328e-473d-fc6d-0d925ba4f644"
      },
      "execution_count": null,
      "outputs": [
        {
          "output_type": "stream",
          "name": "stdout",
          "text": [
            "Enter the length of side 1: 54\n",
            "Enter the length of side 2: 23\n",
            "Enter the length of side 3: 7\n",
            "Scalene triangle\n"
          ]
        }
      ]
    },
    {
      "cell_type": "code",
      "source": [
        "# Develop a program that checks if a year is a leap year and also if it is a century year.\n",
        "year = int(input(\"Enter a year: \"))\n",
        "if (year % 4 == 0 and year % 100 != 0) or (year % 400 == 0):\n",
        "    print(\"Leap year\")\n",
        "    if year % 100 == 0:\n",
        "        print(\"Century year\")\n",
        "else:\n",
        "    print(\"Not a leap year\")\n"
      ],
      "metadata": {
        "colab": {
          "base_uri": "https://localhost:8080/"
        },
        "id": "Dva2Lh85631w",
        "outputId": "fc1f8913-9642-4d57-890e-b540922cc221"
      },
      "execution_count": null,
      "outputs": [
        {
          "output_type": "stream",
          "name": "stdout",
          "text": [
            "Enter a year: 5445\n",
            "Not a leap year\n"
          ]
        }
      ]
    },
    {
      "cell_type": "code",
      "source": [
        "# Write a Python script to determine if a number is positive, negative, or zero.\n",
        "number = float(input(\"Enter a number: \"))\n",
        "if number > 0:\n",
        "    print(\"Positive number\")\n",
        "elif number < 0:\n",
        "    print(\"Negative number\")\n",
        "else:\n",
        "    print(\"Zero\")\n"
      ],
      "metadata": {
        "colab": {
          "base_uri": "https://localhost:8080/"
        },
        "id": "OYdh-N-569qU",
        "outputId": "be3c87f3-74fc-4ec8-db6c-9eda99c176a7"
      },
      "execution_count": null,
      "outputs": [
        {
          "output_type": "stream",
          "name": "stdout",
          "text": [
            "Enter a number: 58\n",
            "Positive number\n"
          ]
        }
      ]
    },
    {
      "cell_type": "code",
      "source": [
        "# Create a program to check if a person is a teenager (between 13 and 19 years old).\n",
        "age = int(input(\"Enter the person's age: \"))\n",
        "if 13 <= age <= 19:\n",
        "    print(\"Teenager\")\n",
        "else:\n",
        "    print(\"Not a teenager\")\n"
      ],
      "metadata": {
        "colab": {
          "base_uri": "https://localhost:8080/"
        },
        "id": "ja5_HR4W7FLb",
        "outputId": "22b4aa62-42a1-42ec-9f83-3174fcaaf97d"
      },
      "execution_count": null,
      "outputs": [
        {
          "output_type": "stream",
          "name": "stdout",
          "text": [
            "Enter the person's age: 72\n",
            "Not a teenager\n"
          ]
        }
      ]
    },
    {
      "cell_type": "code",
      "source": [
        "# Develop a program that determines the type of angle based on its measure (acute, obtuse, or right).\n",
        "angle = float(input(\"Enter the angle measure in degrees: \"))\n",
        "if angle < 90:\n",
        "    print(\"Acute angle\")\n",
        "elif angle == 90:\n",
        "    print(\"Right angle\")\n",
        "else:\n",
        "    print(\"Obtuse angle\")\n"
      ],
      "metadata": {
        "colab": {
          "base_uri": "https://localhost:8080/"
        },
        "id": "51bWhIlV7Ivr",
        "outputId": "96beeafd-7af0-4b87-8995-58ea14f7c7c8"
      },
      "execution_count": null,
      "outputs": [
        {
          "output_type": "stream",
          "name": "stdout",
          "text": [
            "Enter the angle measure in degrees: 180\n",
            "Obtuse angle\n"
          ]
        }
      ]
    },
    {
      "cell_type": "code",
      "source": [
        "# Write a Python program to calculate the roots of a quadratic equation.\n",
        "import math\n",
        "\n",
        "a = float(input(\"Enter the coefficient a: \"))\n",
        "b = float(input(\"Enter the coefficient b: \"))\n",
        "c = float(input(\"Enter the coefficient c: \"))\n",
        "\n",
        "discriminant = b**2 - 4*a*c\n",
        "\n",
        "if discriminant > 0:\n",
        "    root1 = (-b + math.sqrt(discriminant)) / (2*a)\n",
        "    root2 = (-b - math.sqrt(discriminant)) / (2*a)\n",
        "    print(\"Roots are real and different:\", root1, \"and\", root2)\n",
        "elif discriminant == 0:\n",
        "    root = -b / (2*a)\n",
        "    print(\"Root is real and equal:\", root)\n",
        "else:\n",
        "    real_part = -b / (2*a)\n",
        "    imaginary_part = math.sqrt(abs(discriminant)) / (2*a)\n",
        "    print(\"Roots are complex and different:\", real_part, \"+\", imaginary_part, \"i and\", real_part, \"-\", imaginary_part, \"i\")\n"
      ],
      "metadata": {
        "colab": {
          "base_uri": "https://localhost:8080/"
        },
        "id": "Fe0APyq57L38",
        "outputId": "2717dca0-f475-47ea-f53d-0152a5017df2"
      },
      "execution_count": null,
      "outputs": [
        {
          "output_type": "stream",
          "name": "stdout",
          "text": [
            "Enter the coefficient a: 2.3\n",
            "Enter the coefficient b: 2\n",
            "Enter the coefficient c: 6\n",
            "Roots are complex and different: -0.4347826086956522 + 1.5555255495650713 i and -0.4347826086956522 - 1.5555255495650713 i\n"
          ]
        }
      ]
    },
    {
      "cell_type": "code",
      "source": [
        "# Implement a program that determines the day of the week based on a user-provided number (1 for Monday, 2 for Tuesday, etc.).\n",
        "day_number = int(input(\"Enter a number (1 for Monday, 2 for Tuesday, etc.): \"))\n",
        "if 1 <= day_number <= 7:\n",
        "    days_of_week = [\"Monday\", \"Tuesday\", \"Wednesday\", \"Thursday\", \"Friday\", \"Saturday\", \"Sunday\"]\n",
        "    day_of_week = days_of_week[day_number - 1]\n",
        "    print(\"Day of the week:\", day_of_week)\n",
        "else:\n",
        "    print(\"Invalid day number\")\n"
      ],
      "metadata": {
        "colab": {
          "base_uri": "https://localhost:8080/"
        },
        "id": "oM8wk_Xf7O3w",
        "outputId": "24523f1c-0ed9-4e74-a744-11c87d3ba476"
      },
      "execution_count": null,
      "outputs": [
        {
          "output_type": "stream",
          "name": "stdout",
          "text": [
            "Enter a number (1 for Monday, 2 for Tuesday, etc.): 5\n",
            "Day of the week: Friday\n"
          ]
        }
      ]
    },
    {
      "cell_type": "code",
      "source": [
        "# Create a program that determines if a year is a leap year and also if it is evenly divisible by 400.\n",
        "year = int(input(\"Enter a year: \"))\n",
        "if (year % 4 == 0 and year % 100 != 0) or (year % 400 == 0):\n",
        "    print(\"Leap year\")\n",
        "    if year % 400 == 0:\n",
        "        print(\"Divisible by 400\")\n",
        "else:\n",
        "    print(\"Not a leap year\")\n"
      ],
      "metadata": {
        "colab": {
          "base_uri": "https://localhost:8080/"
        },
        "id": "c0CB_KO07UwN",
        "outputId": "8a512e5a-da7f-4f68-9e2a-3a18a8a8ff55"
      },
      "execution_count": null,
      "outputs": [
        {
          "output_type": "stream",
          "name": "stdout",
          "text": [
            "Enter a year: 5200\n",
            "Leap year\n",
            "Divisible by 400\n"
          ]
        }
      ]
    },
    {
      "cell_type": "code",
      "source": [
        "# Develop a program that checks if a given number is prime or not using nested if-else statements.\n",
        "number = int(input(\"Enter a number: \"))\n",
        "if number > 1:\n",
        "    for i in range(2, int(number**0.5) + 1):\n",
        "        if number % i == 0:\n",
        "            print(\"Not a prime number\")\n",
        "            break\n",
        "    else:\n",
        "        print(\"Prime number\")\n",
        "else:\n",
        "    print(\"Not a prime number\")\n"
      ],
      "metadata": {
        "colab": {
          "base_uri": "https://localhost:8080/"
        },
        "id": "lKLf20jp7f3Y",
        "outputId": "4d8545ce-7ead-4afe-f1cd-caa4b2e1d28b"
      },
      "execution_count": null,
      "outputs": [
        {
          "output_type": "stream",
          "name": "stdout",
          "text": [
            "Enter a number: 8\n",
            "Not a prime number\n"
          ]
        }
      ]
    },
    {
      "cell_type": "code",
      "source": [
        "#Elif Statements:"
      ],
      "metadata": {
        "id": "qIFkJnHM7rSA"
      },
      "execution_count": null,
      "outputs": []
    },
    {
      "cell_type": "code",
      "source": [
        "# Write a Python program to assign grades based on different ranges of scores using elif statements.\n",
        "score = float(input(\"Enter the score: \"))\n",
        "if 90 <= score <= 100:\n",
        "    grade = 'A'\n",
        "elif 80 <= score < 90:\n",
        "    grade = 'B'\n",
        "elif 70 <= score < 80:\n",
        "    grade = 'C'\n",
        "elif 60 <= score < 70:\n",
        "    grade = 'D'\n",
        "else:\n",
        "    grade = 'F'\n",
        "print(\"Grade:\", grade)\n"
      ],
      "metadata": {
        "colab": {
          "base_uri": "https://localhost:8080/"
        },
        "id": "iPKx0zNV756-",
        "outputId": "52a22e9e-3f9c-4bbc-c421-b71f380653a6"
      },
      "execution_count": null,
      "outputs": [
        {
          "output_type": "stream",
          "name": "stdout",
          "text": [
            "Enter the score: 55\n",
            "Grade: F\n"
          ]
        }
      ]
    },
    {
      "cell_type": "code",
      "source": [
        "# Implement a program to determine the type of a triangle based on its angles.\n",
        "angle1 = float(input(\"Enter the first angle: \"))\n",
        "angle2 = float(input(\"Enter the second angle: \"))\n",
        "angle3 = float(input(\"Enter the third angle: \"))\n",
        "if angle1 + angle2 + angle3 == 180:\n",
        "    if angle1 == angle2 == angle3 == 60:\n",
        "        triangle_type = 'Equilateral'\n",
        "    elif angle1 == angle2 or angle1 == angle3 or angle2 == angle3:\n",
        "        triangle_type = 'Isosceles'\n",
        "    else:\n",
        "        triangle_type = 'Scalene'\n",
        "else:\n",
        "    triangle_type = 'Invalid'\n",
        "print(\"Triangle type:\", triangle_type)\n"
      ],
      "metadata": {
        "colab": {
          "base_uri": "https://localhost:8080/"
        },
        "id": "Ol7OQG298eg2",
        "outputId": "f5996eb6-5696-4e8d-b27c-9061437c7e98"
      },
      "execution_count": null,
      "outputs": [
        {
          "output_type": "stream",
          "name": "stdout",
          "text": [
            "Enter the first angle: 60\n",
            "Enter the second angle: 60\n",
            "Enter the third angle: 60\n",
            "Triangle type: Equilateral\n"
          ]
        }
      ]
    },
    {
      "cell_type": "code",
      "source": [
        "# Develop a program to categorize a given person's BMI into underweight, normal, overweight, or obese using elif statements.\n",
        "weight = float(input(\"Enter the weight in kilograms: \"))\n",
        "height = float(input(\"Enter the height in meters: \"))\n",
        "bmi = weight / (height ** 2)\n",
        "if bmi < 18.5:\n",
        "    category = 'Underweight'\n",
        "elif 18.5 <= bmi < 24.9:\n",
        "    category = 'Normal'\n",
        "elif 25 <= bmi < 29.9:\n",
        "    category = 'Overweight'\n",
        "else:\n",
        "    category = 'Obese'\n",
        "print(\"BMI Category:\", category)\n"
      ],
      "metadata": {
        "colab": {
          "base_uri": "https://localhost:8080/"
        },
        "id": "2j56IP-18lL_",
        "outputId": "163bc67d-d95f-431b-ba33-f388a1ac5beb"
      },
      "execution_count": null,
      "outputs": [
        {
          "output_type": "stream",
          "name": "stdout",
          "text": [
            "Enter the weight in kilograms: 56\n",
            "Enter the height in meters: 1.8\n",
            "BMI Category: Underweight\n"
          ]
        }
      ]
    },
    {
      "cell_type": "code",
      "source": [
        "# Create a program that determines whether a given number is positive, negative, or zero using elif statements.\n",
        "number = float(input(\"Enter a number: \"))\n",
        "if number > 0:\n",
        "    result = 'Positive'\n",
        "elif number < 0:\n",
        "    result = 'Negative'\n",
        "else:\n",
        "    result = 'Zero'\n",
        "print(\"Result:\", result)\n"
      ],
      "metadata": {
        "colab": {
          "base_uri": "https://localhost:8080/"
        },
        "id": "NuMs31CQ816h",
        "outputId": "f4143db6-a0b7-46b5-9932-c40b63d9e206"
      },
      "execution_count": null,
      "outputs": [
        {
          "output_type": "stream",
          "name": "stdout",
          "text": [
            "Enter a number: 99\n",
            "Result: Positive\n"
          ]
        }
      ]
    },
    {
      "cell_type": "code",
      "source": [
        "# Write a Python script to determine the type of a character (uppercase, lowercase, or special) using elif statements.\n",
        "character = input(\"Enter a character: \")\n",
        "if character.isalpha():\n",
        "    if character.isupper():\n",
        "        char_type = 'Uppercase'\n",
        "    else:\n",
        "        char_type = 'Lowercase'\n",
        "else:\n",
        "    char_type = 'Special character'\n",
        "print(\"Character type:\", char_type)\n"
      ],
      "metadata": {
        "colab": {
          "base_uri": "https://localhost:8080/"
        },
        "id": "9YQmtKpF85zk",
        "outputId": "0f092e39-6108-43fc-b6ef-036c8599e6fa"
      },
      "execution_count": null,
      "outputs": [
        {
          "output_type": "stream",
          "name": "stdout",
          "text": [
            "Enter a character: c\n",
            "Character type: Lowercase\n"
          ]
        }
      ]
    },
    {
      "cell_type": "code",
      "source": [
        "# Implement a program to calculate the discounted price based on different purchase amounts using elif statements.\n",
        "purchase_amount = float(input(\"Enter the purchase amount: \"))\n",
        "if purchase_amount >= 1000:\n",
        "    discount = 0.1\n",
        "elif purchase_amount >= 500:\n",
        "    discount = 0.05\n",
        "else:\n",
        "    discount = 0.02\n",
        "discounted_price = purchase_amount - (purchase_amount * discount)\n",
        "print(\"Discounted price:\", discounted_price)\n"
      ],
      "metadata": {
        "colab": {
          "base_uri": "https://localhost:8080/"
        },
        "id": "gH0jPVoy89Wh",
        "outputId": "df038f98-5842-48fb-81ad-9f7c13e6faeb"
      },
      "execution_count": null,
      "outputs": [
        {
          "output_type": "stream",
          "name": "stdout",
          "text": [
            "Enter the purchase amount: 450\n",
            "Discounted price: 441.0\n"
          ]
        }
      ]
    },
    {
      "cell_type": "code",
      "source": [
        "# Develop a program to calculate the electricity bill based on different consumption slabs using elif statements.\n",
        "consumption = float(input(\"Enter the electricity consumption in kWh: \"))\n",
        "if consumption <= 100:\n",
        "    rate = 0.2\n",
        "elif consumption <= 200:\n",
        "    rate = 0.5\n",
        "elif consumption <= 300:\n",
        "    rate = 0.8\n",
        "else:\n",
        "    rate = 1.0\n",
        "bill = consumption * rate\n",
        "print(\"Electricity bill:\", bill)\n"
      ],
      "metadata": {
        "colab": {
          "base_uri": "https://localhost:8080/"
        },
        "id": "f20BcBxt9ALU",
        "outputId": "6d92a2d7-788c-412c-f631-1e29a3147280"
      },
      "execution_count": null,
      "outputs": [
        {
          "output_type": "stream",
          "name": "stdout",
          "text": [
            "Enter the electricity consumption in kWh: 566\n",
            "Electricity bill: 566.0\n"
          ]
        }
      ]
    },
    {
      "cell_type": "code",
      "source": [
        "# Create a program to determine the type of quadrilateral based on its angles and sides using elif statements.\n",
        "angle1 = float(input(\"Enter the first angle: \"))\n",
        "angle2 = float(input(\"Enter the second angle: \"))\n",
        "angle3 = float(input(\"Enter the third angle: \"))\n",
        "angle4 = float(input(\"Enter the fourth angle: \"))\n",
        "if angle1 + angle2 + angle3 + angle4 == 360:\n",
        "    if angle1 == angle2 == angle3 == angle4 == 90:\n",
        "        quad_type = 'Square'\n",
        "    elif angle1 == angle3 and angle2 == angle4:\n",
        "        quad_type = 'Rectangle'\n",
        "    else:\n",
        "        quad_type = 'Quadrilateral'\n",
        "else:\n",
        "    quad_type = 'Invalid'\n",
        "print(\"Quadrilateral type:\", quad_type)\n"
      ],
      "metadata": {
        "colab": {
          "base_uri": "https://localhost:8080/"
        },
        "id": "Mqjjsuj5-NUi",
        "outputId": "be501495-1ea1-46ea-e252-b85d64b2b973"
      },
      "execution_count": null,
      "outputs": [
        {
          "output_type": "stream",
          "name": "stdout",
          "text": [
            "Enter the first angle: 90\n",
            "Enter the second angle: 90\n",
            "Enter the third angle: 90\n",
            "Enter the fourth angle: 90\n",
            "Quadrilateral type: Square\n"
          ]
        }
      ]
    },
    {
      "cell_type": "code",
      "source": [],
      "metadata": {
        "id": "r3XgW_oR-lqP"
      },
      "execution_count": null,
      "outputs": []
    },
    {
      "cell_type": "code",
      "source": [
        "# Implement a program to determine the type of a year (leap or common) and month (30 or 31 days) using elif statements.\n",
        "year = int(input(\"Enter the year: \"))\n",
        "month = int(input(\"Enter the month (1-12): \"))\n",
        "if 1 <= month <= 12:\n",
        "    if month in {1, 3, 5, 7, 8, 10, 12}:\n",
        "        days_in_month = 31\n",
        "    elif month == 2:\n",
        "        if (year % 4 == 0 and year % 100 != 0) or (year % 400 == 0):\n",
        "            days_in_month = 29\n",
        "        else:\n",
        "            days_in_month = 28\n",
        "    else:\n",
        "        days_in_month = 30\n",
        "    print(\"Days in month:\", days_in_month)\n",
        "    if days_in_month == 28:\n",
        "        print(\"Common year (non-leap year)\")\n",
        "    elif days_in_month == 29:\n",
        "        print(\"Leap year\")\n",
        "else:\n",
        "    print(\"Invalid month. Please enter a number between 1 and 12.\")\n"
      ],
      "metadata": {
        "colab": {
          "base_uri": "https://localhost:8080/"
        },
        "id": "MgzVuqbX-4ea",
        "outputId": "285debf5-47a5-4624-a0fd-d19f724348d8"
      },
      "execution_count": null,
      "outputs": [
        {
          "output_type": "stream",
          "name": "stdout",
          "text": [
            "Enter the year: 2002\n",
            "Enter the month (1-12): 6\n",
            "Days in month: 30\n"
          ]
        }
      ]
    },
    {
      "cell_type": "code",
      "source": [
        "# Write a Python script to determine the season based on a user-provided month using elif statements.\n",
        "month = int(input(\"Enter the month (1-12): \"))\n",
        "\n",
        "if 1 <= month <= 12:\n",
        "    if 3 <= month <= 5:\n",
        "        season = 'Spring'\n",
        "    elif 6 <= month <= 8:\n",
        "        season = 'Summer'\n",
        "    elif 9 <= month <= 11:\n",
        "        season = 'Fall'\n",
        "    else:\n",
        "        season = 'Winter'\n",
        "    print(\"Season:\", season)\n",
        "else:\n",
        "    print(\"Invalid month. Please enter a number between 1 and 12.\")\n"
      ],
      "metadata": {
        "colab": {
          "base_uri": "https://localhost:8080/"
        },
        "id": "5sTbHmfc-5D5",
        "outputId": "5631ceb3-163c-4cc5-cfdd-bcbcd7dfde24"
      },
      "execution_count": null,
      "outputs": [
        {
          "output_type": "stream",
          "name": "stdout",
          "text": [
            "Enter the month (1-12): 12\n",
            "Season: Winter\n"
          ]
        }
      ]
    },
    {
      "cell_type": "code",
      "source": [
        "#base level"
      ],
      "metadata": {
        "id": "a-PaDP2nz1tx"
      },
      "execution_count": null,
      "outputs": []
    },
    {
      "cell_type": "code",
      "source": [
        "# 1. Write a Python program that checks if a given number is positive, negative, or zero.\n",
        "number = float(input(\"Enter a number: \"))\n",
        "if number > 0:\n",
        "    print(\"Positive number\")\n",
        "elif number < 0:\n",
        "    print(\"Negative number\")\n",
        "else:\n",
        "    print(\"Zero\")\n"
      ],
      "metadata": {
        "colab": {
          "base_uri": "https://localhost:8080/"
        },
        "id": "x9No2fClz3-9",
        "outputId": "382447d4-25a8-410c-9fff-3414757a2525"
      },
      "execution_count": null,
      "outputs": [
        {
          "output_type": "stream",
          "name": "stdout",
          "text": [
            "Enter a number: 5\n",
            "Positive number\n"
          ]
        }
      ]
    },
    {
      "cell_type": "code",
      "source": [
        "\n",
        "\n",
        "# 2. Create a program to determine if a person is eligible to vote based on their age.\n",
        "age = int(input(\"Enter your age: \"))\n",
        "if age >= 18:\n",
        "    print(\"You are eligible to vote\")\n",
        "else:\n",
        "    print(\"You are not eligible to vote\")\n"
      ],
      "metadata": {
        "colab": {
          "base_uri": "https://localhost:8080/"
        },
        "id": "4BiTCAlfz_r4",
        "outputId": "fbbaf1c9-7a2c-4d85-bee1-e5adb20a573f"
      },
      "execution_count": null,
      "outputs": [
        {
          "output_type": "stream",
          "name": "stdout",
          "text": [
            "Enter your age: 18\n",
            "You are eligible to vote\n"
          ]
        }
      ]
    },
    {
      "cell_type": "code",
      "source": [
        "\n",
        "\n",
        "# 3. Write a program to find the maximum of two given numbers using conditional statements.\n",
        "num1 = float(input(\"Enter the first number: \"))\n",
        "num2 = float(input(\"Enter the second number: \"))\n",
        "if num1 > num2:\n",
        "    print(f\"The maximum number is: {num1}\")\n",
        "elif num1 < num2:\n",
        "    print(f\"The maximum number is: {num2}\")\n",
        "else:\n",
        "    print(\"Both numbers are equal\")"
      ],
      "metadata": {
        "colab": {
          "base_uri": "https://localhost:8080/"
        },
        "id": "HSKNQym50DWz",
        "outputId": "8e56cc5b-a126-4643-9845-e75b7a23d0df"
      },
      "execution_count": null,
      "outputs": [
        {
          "output_type": "stream",
          "name": "stdout",
          "text": [
            "Enter the first number: 54\n",
            "Enter the second number: 65\n",
            "The maximum number is: 65.0\n"
          ]
        }
      ]
    },
    {
      "cell_type": "code",
      "source": [
        "\n",
        "# 4. Develop a program that calculates the grade of a student based on their exam score.\n",
        "exam_score = float(input(\"Enter your exam score: \"))\n",
        "if exam_score >= 90:\n",
        "    print(\"Grade: A\")\n",
        "elif 80 <= exam_score < 90:\n",
        "    print(\"Grade: B\")\n",
        "elif 70 <= exam_score < 80:\n",
        "    print(\"Grade: C\")\n",
        "elif 60 <= exam_score < 70:\n",
        "    print(\"Grade: D\")\n",
        "else:\n",
        "    print(\"Grade: F\")\n"
      ],
      "metadata": {
        "colab": {
          "base_uri": "https://localhost:8080/"
        },
        "id": "JGY0tM5U0FIl",
        "outputId": "394cceb5-b5c7-454e-8e5c-f8e36ba2ff4a"
      },
      "execution_count": null,
      "outputs": [
        {
          "output_type": "stream",
          "name": "stdout",
          "text": [
            "Enter your exam score: 56\n",
            "Grade: F\n"
          ]
        }
      ]
    },
    {
      "cell_type": "code",
      "source": [
        "\n",
        "\n",
        "# 5. Create a program that checks if a year is a leap year or not.\n",
        "year = int(input(\"Enter a year: \"))\n",
        "if (year % 4 == 0 and year % 100 != 0) or (year % 400 == 0):\n",
        "    print(f\"{year} is a leap year\")\n",
        "else:\n",
        "    print(f\"{year} is not a leap year\")\n"
      ],
      "metadata": {
        "colab": {
          "base_uri": "https://localhost:8080/"
        },
        "id": "4WylbaSf0NjG",
        "outputId": "45d9f0d3-ec3c-47cc-f9b5-7f22d0d20862"
      },
      "execution_count": null,
      "outputs": [
        {
          "output_type": "stream",
          "name": "stdout",
          "text": [
            "Enter a year: 2004\n",
            "2004 is a leap year\n"
          ]
        }
      ]
    },
    {
      "cell_type": "code",
      "source": [
        "# 6. Write a program to classify a triangle based on its sides' lengths.\n",
        "side1 = float(input(\"Enter the length of side 1: \"))\n",
        "side2 = float(input(\"Enter the length of side 2: \"))\n",
        "side3 = float(input(\"Enter the length of side 3: \"))\n",
        "if side1 == side2 == side3:\n",
        "    print(\"Equilateral triangle\")\n",
        "elif side1 == side2 or side1 == side3 or side2 == side3:\n",
        "    print(\"Isosceles triangle\")\n",
        "else:\n",
        "    print(\"Scalene triangle\")\n"
      ],
      "metadata": {
        "colab": {
          "base_uri": "https://localhost:8080/"
        },
        "id": "N0obuH6l0Qb9",
        "outputId": "d7e38b55-5a94-4926-b8d0-37edf8f9b7a7"
      },
      "execution_count": null,
      "outputs": [
        {
          "output_type": "stream",
          "name": "stdout",
          "text": [
            "Enter the length of side 1: 60\n",
            "Enter the length of side 2: 60\n",
            "Enter the length of side 3: 60\n",
            "Equilateral triangle\n"
          ]
        }
      ]
    },
    {
      "cell_type": "code",
      "source": [
        "\n",
        "\n",
        "\n",
        "# 7. Build a program that determines the largest of three given numbers.\n",
        "num1 = float(input(\"Enter the first number: \"))\n",
        "num2 = float(input(\"Enter the second number: \"))\n",
        "num3 = float(input(\"Enter the third number: \"))\n",
        "if num1 >= num2 and num1 >= num3:\n",
        "    print(f\"The largest number is: {num1}\")\n",
        "elif num2 >= num1 and num2 >= num3:\n",
        "    print(f\"The largest number is: {num2}\")\n",
        "else:\n",
        "    print(f\"The largest number is: {num3}\")\n"
      ],
      "metadata": {
        "colab": {
          "base_uri": "https://localhost:8080/"
        },
        "id": "o6unjCnD0RaQ",
        "outputId": "2589b5d5-13bc-4a10-a5d7-2f79ee96362b"
      },
      "execution_count": null,
      "outputs": [
        {
          "output_type": "stream",
          "name": "stdout",
          "text": [
            "Enter the first number: 26\n",
            "Enter the second number: 52\n",
            "Enter the third number: 2\n",
            "The largest number is: 52.0\n"
          ]
        }
      ]
    },
    {
      "cell_type": "code",
      "source": [
        "\n",
        "# 8. Develop a program that checks whether a character is a vowel or a consonant.\n",
        "char = input(\"Enter a character: \").lower()\n",
        "if char.isalpha() and len(char) == 1:\n",
        "    if char in \"aeiou\":\n",
        "        print(f\"{char} is a vowel\")\n",
        "    else:\n",
        "        print(f\"{char} is a consonant\")\n",
        "else:\n",
        "    print(\"Invalid input. Please enter a single character.\")\n"
      ],
      "metadata": {
        "colab": {
          "base_uri": "https://localhost:8080/"
        },
        "id": "espsbNvT0Rn4",
        "outputId": "949780b6-b54d-483e-b42c-30b375940e34"
      },
      "execution_count": null,
      "outputs": [
        {
          "output_type": "stream",
          "name": "stdout",
          "text": [
            "Enter a character: j\n",
            "j is a consonant\n"
          ]
        }
      ]
    },
    {
      "cell_type": "code",
      "source": [
        "# 9. Create a program to calculate the total cost of a shopping cart based on discounts.\n",
        "total_cost = float(input(\"Enter the total cost of the shopping cart: \"))\n",
        "if total_cost >= 100:\n",
        "    discount = 0.1 * total_cost\n",
        "    total_cost -= discount\n",
        "    print(f\"Discount applied! Total cost after discount: ${total_cost}\")\n",
        "else:\n",
        "    print(\"No discount applied. Total cost remains: ${total_cost}\")\n",
        "\n"
      ],
      "metadata": {
        "colab": {
          "base_uri": "https://localhost:8080/"
        },
        "id": "i8Dhz_7c0R0M",
        "outputId": "41ba07bf-a600-476d-9e63-a8cacfcbc9f0"
      },
      "execution_count": null,
      "outputs": [
        {
          "output_type": "stream",
          "name": "stdout",
          "text": [
            "Enter the total cost of the shopping cart: 560\n",
            "Discount applied! Total cost after discount: $504.0\n"
          ]
        }
      ]
    },
    {
      "cell_type": "code",
      "source": [
        "\n",
        "\n",
        "\n",
        "# 10. Write a program that checks if a given number is even or odd.\n",
        "number = int(input(\"Enter a number: \"))\n",
        "if number % 2 == 0:\n",
        "    print(f\"{number} is an even number\")\n",
        "else:\n",
        "    print(f\"{number} is an odd number\")\n"
      ],
      "metadata": {
        "colab": {
          "base_uri": "https://localhost:8080/"
        },
        "id": "Z2HHjkSOzNti",
        "outputId": "46281a60-0c77-4f6d-9723-6fec6121a078"
      },
      "execution_count": null,
      "outputs": [
        {
          "output_type": "stream",
          "name": "stdout",
          "text": [
            "Enter a number: 56\n",
            "56 is an even number\n"
          ]
        }
      ]
    },
    {
      "cell_type": "code",
      "source": [
        "#Intermediate level"
      ],
      "metadata": {
        "id": "Yevp9m5m0POF"
      },
      "execution_count": null,
      "outputs": []
    },
    {
      "cell_type": "code",
      "source": [
        "# 11. Write a program that calculates the roots of a quadratic equation.\n",
        "import math\n",
        "\n",
        "def calculate_roots(a, b, c):\n",
        "    discriminant = b**2 - 4*a*c\n",
        "    if discriminant > 0:\n",
        "        root1 = (-b + math.sqrt(discriminant)) / (2*a)\n",
        "        root2 = (-b - math.sqrt(discriminant)) / (2*a)\n",
        "        return root1, root2\n",
        "    elif discriminant == 0:\n",
        "        root = -b / (2*a)\n",
        "        return root,\n",
        "    else:\n",
        "        return \"No real roots\"\n",
        "\n",
        "# Example usage:\n",
        "a = float(input(\"Enter the coefficient a: \"))\n",
        "b = float(input(\"Enter the coefficient b: \"))\n",
        "c = float(input(\"Enter the coefficient c: \"))\n",
        "roots = calculate_roots(a, b, c)\n",
        "print(\"Roots:\", roots)"
      ],
      "metadata": {
        "id": "1eanpBrtz9X3",
        "colab": {
          "base_uri": "https://localhost:8080/"
        },
        "outputId": "3777826b-0de8-40ea-af4c-81666cf06b64"
      },
      "execution_count": null,
      "outputs": [
        {
          "output_type": "stream",
          "name": "stdout",
          "text": [
            "Enter the coefficient a: 1.2\n",
            "Enter the coefficient b: 1.6\n",
            "Enter the coefficient c: 6\n",
            "Roots: No real roots\n"
          ]
        }
      ]
    },
    {
      "cell_type": "code",
      "source": [
        "\n",
        "# 12. Create a program that determines the day of the week based on the day number (1-7).\n",
        "day_number = int(input(\"Enter a day number (1-7): \"))\n",
        "days_of_week = [\"Monday\", \"Tuesday\", \"Wednesday\", \"Thursday\", \"Friday\", \"Saturday\", \"Sunday\"]\n",
        "if 1 <= day_number <= 7:\n",
        "    day_name = days_of_week[day_number - 1]\n",
        "    print(f\"Day {day_number} is {day_name}\")\n",
        "else:\n",
        "    print(\"Invalid day number\")\n"
      ],
      "metadata": {
        "id": "AU43fHEu06Xd",
        "colab": {
          "base_uri": "https://localhost:8080/"
        },
        "outputId": "447ea13f-98f1-445d-ef7f-fd0b66cb6f0b"
      },
      "execution_count": null,
      "outputs": [
        {
          "output_type": "stream",
          "name": "stdout",
          "text": [
            "Enter a day number (1-7): 6\n",
            "Day 6 is Saturday\n"
          ]
        }
      ]
    },
    {
      "cell_type": "code",
      "source": [
        "\n",
        "\n",
        "# 13. Develop a program that calculates the factorial of a given number using recursion.\n",
        "def calculate_factorial(n):\n",
        "    if n == 0 or n == 1:\n",
        "        return 1\n",
        "    else:\n",
        "        return n * calculate_factorial(n - 1)\n",
        "\n",
        "# Example usage:\n",
        "number = int(input(\"Enter a number: \"))\n",
        "factorial = calculate_factorial(number)\n",
        "print(f\"The factorial of {number} is: {factorial}\")\n"
      ],
      "metadata": {
        "id": "d0VpSsOn06jI",
        "colab": {
          "base_uri": "https://localhost:8080/"
        },
        "outputId": "20f53be8-9bc4-4c50-9283-8946015c5ce2"
      },
      "execution_count": null,
      "outputs": [
        {
          "output_type": "stream",
          "name": "stdout",
          "text": [
            "Enter a number: 56\n",
            "The factorial of 56 is: 710998587804863451854045647463724949736497978881168458687447040000000000000\n"
          ]
        }
      ]
    },
    {
      "cell_type": "code",
      "source": [
        "\n",
        "# 14. Write a program to find the largest among three numbers without using the `max()` function.\n",
        "num1 = float(input(\"Enter the first number: \"))\n",
        "num2 = float(input(\"Enter the second number: \"))\n",
        "num3 = float(input(\"Enter the third number: \"))\n",
        "largest = num1 if num1 > num2 and num1 > num3 else (num2 if num2 > num3 else num3)\n",
        "print(f\"The largest number is: {largest}\")\n"
      ],
      "metadata": {
        "id": "rT6gepnK06sC",
        "colab": {
          "base_uri": "https://localhost:8080/"
        },
        "outputId": "811a64e7-1c3a-4065-b533-482a2d558ffa"
      },
      "execution_count": null,
      "outputs": [
        {
          "output_type": "stream",
          "name": "stdout",
          "text": [
            "Enter the first number: 56\n",
            "Enter the second number: 45\n",
            "Enter the third number: 55\n",
            "The largest number is: 56.0\n"
          ]
        }
      ]
    },
    {
      "cell_type": "code",
      "source": [
        "\n",
        "# 15. Create a program that simulates a basic ATM transaction menu.\n",
        "balance = 1000  # Initial balance\n",
        "\n",
        "def display_menu():\n",
        "    print(\"1. Check Balance\")\n",
        "    print(\"2. Deposit\")\n",
        "    print(\"3. Withdraw\")\n",
        "    print(\"4. Quit\")\n",
        "\n",
        "def check_balance():\n",
        "    print(f\"Your balance is: ${balance}\")\n",
        "\n",
        "def deposit():\n",
        "    amount = float(input(\"Enter the deposit amount: \"))\n",
        "    global balance\n",
        "    balance += amount\n",
        "    print(f\"${amount} deposited successfully. Updated balance: ${balance}\")\n",
        "\n",
        "def withdraw():\n",
        "    amount = float(input(\"Enter the withdrawal amount: \"))\n",
        "    global balance\n",
        "    if amount <= balance:\n",
        "        balance -= amount\n",
        "        print(f\"${amount} withdrawn successfully. Updated balance: ${balance}\")\n",
        "    else:\n",
        "        print(\"Insufficient funds\")\n",
        "\n",
        "# Main ATM loop\n",
        "while True:\n",
        "    display_menu()\n",
        "    choice = int(input(\"Enter your choice (1-4): \"))\n",
        "    if choice == 1:\n",
        "        check_balance()\n",
        "    elif choice == 2:\n",
        "        deposit()\n",
        "    elif choice == 3:\n",
        "        withdraw()\n",
        "    elif choice == 4:\n",
        "        print(\"Thank you for using the ATM. Goodbye!\")\n",
        "        break\n",
        "    else:\n",
        "        print(\"Invalid choice. Please enter a number between 1 and 4.\")\n"
      ],
      "metadata": {
        "id": "koQbRidq060f",
        "colab": {
          "base_uri": "https://localhost:8080/"
        },
        "outputId": "91030abc-f6d5-4725-c13e-e60998f4b484"
      },
      "execution_count": null,
      "outputs": [
        {
          "output_type": "stream",
          "name": "stdout",
          "text": [
            "1. Check Balance\n",
            "2. Deposit\n",
            "3. Withdraw\n",
            "4. Quit\n",
            "Enter your choice (1-4): 2\n",
            "Enter the deposit amount: 500\n",
            "$500.0 deposited successfully. Updated balance: $1500.0\n",
            "1. Check Balance\n",
            "2. Deposit\n",
            "3. Withdraw\n",
            "4. Quit\n",
            "Enter your choice (1-4): 2\n",
            "Enter the deposit amount: 500\n",
            "$500.0 deposited successfully. Updated balance: $2000.0\n",
            "1. Check Balance\n",
            "2. Deposit\n",
            "3. Withdraw\n",
            "4. Quit\n",
            "Enter your choice (1-4): 4\n",
            "Thank you for using the ATM. Goodbye!\n"
          ]
        }
      ]
    },
    {
      "cell_type": "code",
      "source": [
        "\n",
        "# 16. Build a program that checks if a given string is a palindrome or not.\n",
        "def is_palindrome(s):\n",
        "    s = s.lower().replace(\" \", \"\")  # Convert to lowercase and remove spaces\n",
        "    return s == s[::-1]\n",
        "\n",
        "# Example usage:\n",
        "string = input(\"Enter a string: \")\n",
        "if is_palindrome(string):\n",
        "    print(f\"{string} is a palindrome\")\n",
        "else:\n",
        "    print(f\"{string} is not a palindrome\")\n",
        "\n"
      ],
      "metadata": {
        "id": "mTCEBheT068W",
        "colab": {
          "base_uri": "https://localhost:8080/"
        },
        "outputId": "0cb23933-a144-4af8-e2d2-6fb7774cf650"
      },
      "execution_count": null,
      "outputs": [
        {
          "output_type": "stream",
          "name": "stdout",
          "text": [
            "Enter a string: hek\n",
            "hek is not a palindrome\n"
          ]
        }
      ]
    },
    {
      "cell_type": "code",
      "source": [
        "# 17. Write a program that calculates the average of a list of numbers, excluding the smallest and largest values.\n",
        "print(\"Enter count :\" )\n",
        "count = int(input())\n",
        "\n",
        "numbers = [float(input(\"Enter a number: \")) for _ in range(count)]  # Input a list of 5 numbers\n",
        "numbers.sort()\n",
        "average = sum(numbers[1:-1]) / 3  # Exclude the smallest and largest values\n",
        "print(f\"The average (excluding smallest and largest) is: {average}\")\n"
      ],
      "metadata": {
        "id": "SyLfXPEM07DG",
        "colab": {
          "base_uri": "https://localhost:8080/"
        },
        "outputId": "b3e53964-c771-4c94-e27e-34a88fbeca75"
      },
      "execution_count": null,
      "outputs": [
        {
          "output_type": "stream",
          "name": "stdout",
          "text": [
            "Enter count :\n",
            "3\n",
            "Enter a number: 1\n",
            "Enter a number: 3\n",
            "Enter a number: 2\n",
            "The average (excluding smallest and largest) is: 0.6666666666666666\n"
          ]
        }
      ]
    },
    {
      "cell_type": "code",
      "source": [
        "\n",
        "# 18. Develop a program that converts a given temperature from Celsius to Fahrenheit.\n",
        "celsius = float(input(\"Enter temperature in Celsius: \"))\n",
        "fahrenheit = (celsius * 9/5) + 32\n",
        "print(f\"{celsius} degrees Celsius is equal to {fahrenheit} degrees Fahrenheit\")\n"
      ],
      "metadata": {
        "id": "WFLNcyvE07LB",
        "colab": {
          "base_uri": "https://localhost:8080/"
        },
        "outputId": "60ae9010-578b-4dab-d1cb-49efaa097de0"
      },
      "execution_count": null,
      "outputs": [
        {
          "output_type": "stream",
          "name": "stdout",
          "text": [
            "Enter temperature in Celsius: 560\n",
            "560.0 degrees Celsius is equal to 1040.0 degrees Fahrenheit\n"
          ]
        }
      ]
    },
    {
      "cell_type": "code",
      "source": [
        "\n",
        "\n",
        "# 19. Create a program that simulates a basic calculator for addition, subtraction, multiplication, and division.\n",
        "def calculator():\n",
        "    num1 = float(input(\"Enter the first number: \"))\n",
        "    operator = input(\"Enter the operator (+, -, *, /): \")\n",
        "    num2 = float(input(\"Enter the second number: \"))\n",
        "    if operator == '+':\n",
        "        result = num1 + num2\n",
        "    elif operator == '-':\n",
        "        result = num1 - num2\n",
        "    elif operator == '*':\n",
        "        result = num1 * num2\n",
        "    elif operator == '/':\n",
        "        if num2 != 0:\n",
        "            result = num1 / num2\n",
        "        else:\n",
        "            print(\"Cannot divide by zero\")\n",
        "            return\n",
        "    else:\n",
        "        print(\"Invalid operator\")\n",
        "        return\n",
        "    print(f\"Result: {result}\")\n",
        "\n",
        "# Example usage:\n",
        "calculator()\n",
        "\n",
        "\n"
      ],
      "metadata": {
        "id": "hXlQk8xx07bB",
        "colab": {
          "base_uri": "https://localhost:8080/"
        },
        "outputId": "0e190193-b0cc-4f44-c169-a7a20ef6f4bd"
      },
      "execution_count": null,
      "outputs": [
        {
          "output_type": "stream",
          "name": "stdout",
          "text": [
            "Enter the first number: 56\n",
            "Enter the operator (+, -, *, /): +\n",
            "Enter the second number: 85\n",
            "Result: 141.0\n"
          ]
        }
      ]
    },
    {
      "cell_type": "code",
      "source": [
        "# 20. Write a program that determines the roots of a cubic equation using the Cardano formula.\n",
        "import cmath\n",
        "\n",
        "def calculate_cubic_roots(a, b, c, d):\n",
        "    p = (3*a*c - b**2) / (3*a**2)\n",
        "    q = (2*b**3 - 9*a*b*c + 27*a**2*d) / (27*a**3)\n",
        "    delta = (q/2)**2 + (p/3)**3\n",
        "    root1 = -1\n",
        "    root2 = -1\n",
        "    root3 = -1\n",
        "\n",
        "    if delta >= 0:\n",
        "        delta_sqrt = cmath.sqrt(delta)\n",
        "\n",
        "        root1 = -1/2 * (q/2 + delta_sqrt)**(1/3) - 1/2 * (q/2 - delta_sqrt)**(1/3) - b / (3*a)\n",
        "\n",
        "    else:\n",
        "        theta = cmath.acos(-q/2 * cmath.sqrt(-27/(p**3)))\n",
        "        root1 = 2 * cmath.sqrt(-p/3) * cmath.cos(theta/3) - b / (3*a)\n",
        "        root2 = 2 * cmath.sqrt(-p/3) * cmath.cos((theta + 2*cmath.pi)/3) - b / (3*a)\n",
        "        root3 = 2 * cmath.sqrt(-p/3) * cmath.cos((theta + 4*cmath.pi)/3) - b / (3*a)\n",
        "\n",
        "    return root1, root2, root3\n",
        "\n",
        "# Example usage:\n",
        "a = float(input(\"Enter the coefficient a: \"))\n",
        "b = float(input(\"Enter the coefficient b: \"))\n",
        "c = float(input(\"Enter the coefficient c: \"))\n",
        "d = float(input(\"Enter the coefficient d: \"))\n",
        "roots = calculate_cubic_roots(a, b, c, d)\n",
        "print(\"Roots:\", roots)\n"
      ],
      "metadata": {
        "id": "aSq3u3rG1eFU",
        "colab": {
          "base_uri": "https://localhost:8080/"
        },
        "outputId": "fa6739df-48ba-4e28-cffa-11faee1cd374"
      },
      "execution_count": null,
      "outputs": [
        {
          "output_type": "stream",
          "name": "stdout",
          "text": [
            "Enter the coefficient a: 1.66\n",
            "Enter the coefficient b: 2.5\n",
            "Enter the coefficient c: 10\n",
            "Enter the coefficient d: 5\n",
            "Roots: ((-1.5017321179751963-0.5639940400475523j), -1, -1)\n"
          ]
        }
      ]
    },
    {
      "cell_type": "code",
      "source": [
        "# Advanced Level:"
      ],
      "metadata": {
        "id": "H8eWrZ8I3UtM"
      },
      "execution_count": null,
      "outputs": []
    },
    {
      "cell_type": "code",
      "source": [
        "# 21. Create a program that calculates the income tax based on the user's income and tax brackets.\n",
        "def calculate_income_tax(income):\n",
        "    if income <= 0:\n",
        "        return 0\n",
        "    elif income <= 10000:\n",
        "        return 0.1 * income\n",
        "    elif income <= 50000:\n",
        "        return 0.2 * income\n",
        "    elif income <= 100000:\n",
        "        return 0.3 * income\n",
        "    else:\n",
        "        return 0.4 * income\n",
        "\n",
        "# Example usage:\n",
        "user_income = float(input(\"Enter your income: \"))\n",
        "tax_amount = calculate_income_tax(user_income)\n",
        "print(\"Income Tax:\", tax_amount)\n"
      ],
      "metadata": {
        "colab": {
          "base_uri": "https://localhost:8080/"
        },
        "id": "cDN0ONts3aGz",
        "outputId": "60e65f2d-e07a-4393-9875-f3b69c639f60"
      },
      "execution_count": null,
      "outputs": [
        {
          "output_type": "stream",
          "name": "stdout",
          "text": [
            "Enter your income: 50000\n",
            "Income Tax: 10000.0\n"
          ]
        }
      ]
    },
    {
      "cell_type": "code",
      "source": [
        "\n",
        "# 22. Write a program that simulates a rock-paper-scissors game against the computer.\n",
        "import random\n",
        "\n",
        "def play_rps(user_choice):\n",
        "    choices = ['rock', 'paper', 'scissors']\n",
        "    computer_choice = random.choice(choices)\n",
        "\n",
        "    print(\"Computer's choice:\", computer_choice)\n",
        "\n",
        "    if user_choice == computer_choice:\n",
        "        return \"It's a tie!\"\n",
        "    elif (user_choice == 'rock' and computer_choice == 'scissors') or \\\n",
        "         (user_choice == 'paper' and computer_choice == 'rock') or \\\n",
        "         (user_choice == 'scissors' and computer_choice == 'paper'):\n",
        "        return \"You win!\"\n",
        "    else:\n",
        "        return \"You lose!\"\n",
        "\n",
        "# Example usage:\n",
        "user_choice = input(\"Enter your choice (rock/paper/scissors): \").lower()\n",
        "result = play_rps(user_choice)\n",
        "print(result)"
      ],
      "metadata": {
        "colab": {
          "base_uri": "https://localhost:8080/"
        },
        "id": "lnSxxvqL3gwp",
        "outputId": "71eab548-868a-43af-c125-6cf9a97beac9"
      },
      "execution_count": null,
      "outputs": [
        {
          "output_type": "stream",
          "name": "stdout",
          "text": [
            "Enter your choice (rock/paper/scissors): paper\n",
            "Computer's choice: paper\n",
            "It's a tie!\n"
          ]
        }
      ]
    },
    {
      "cell_type": "code",
      "source": [
        "\n",
        "\n",
        "# 23. Develop a program that generates a random password based on user preferences (length, complexity).\n",
        "import random\n",
        "import string\n",
        "\n",
        "def generate_random_password(length, include_uppercase, include_digits, include_special_chars):\n",
        "    characters = string.ascii_lowercase\n",
        "    if include_uppercase:\n",
        "        characters += string.ascii_uppercase\n",
        "    if include_digits:\n",
        "        characters += string.digits\n",
        "    if include_special_chars:\n",
        "        characters += string.punctuation\n",
        "\n",
        "    password = ''.join(random.choice(characters) for _ in range(length))\n",
        "    return password\n",
        "\n",
        "# Example usage:\n",
        "password_length = int(input(\"Enter the desired password length: \"))\n",
        "include_uppercase = input(\"Include uppercase letters? (y/n): \").lower() == 'y'\n",
        "include_digits = input(\"Include digits? (y/n): \").lower() == 'y'\n",
        "include_special_chars = input(\"Include special characters? (y/n): \").lower() == 'y'\n",
        "password = generate_random_password(password_length, include_uppercase, include_digits, include_special_chars)\n",
        "print(\"Generated Password:\", password)"
      ],
      "metadata": {
        "colab": {
          "base_uri": "https://localhost:8080/"
        },
        "id": "BJAHNzzC3g5L",
        "outputId": "cb85c424-52d9-4ebd-f9d1-67d40b5bf915"
      },
      "execution_count": null,
      "outputs": [
        {
          "output_type": "stream",
          "name": "stdout",
          "text": [
            "Enter the desired password length: 7\n",
            "Include uppercase letters? (y/n): y\n",
            "Include digits? (y/n): y\n",
            "Include special characters? (y/n): y\n",
            "Generated Password: ~1$uR{E\n"
          ]
        }
      ]
    },
    {
      "cell_type": "code",
      "source": [
        "\n",
        "\n",
        "# 24. Create a program that implements a simple text-based adventure game with branching scenarios.\n",
        "print(\"Welcome to the Adventure Game!\")\n",
        "print(\"You find yourself in a dark cave. Choose your path:\")\n",
        "print(\"1. Go left\")\n",
        "print(\"2. Go right\")\n",
        "\n",
        "choice = input(\"Enter your choice (1/2): \")\n",
        "\n",
        "if choice == '1':\n",
        "    print(\"You encounter a dragon! Choose your action:\")\n",
        "    print(\"1. Fight the dragon\")\n",
        "    print(\"2. Try to sneak past\")\n",
        "\n",
        "    action = input(\"Enter your action (1/2): \")\n",
        "\n",
        "    if action == '1':\n",
        "        print(\"You engage in a fierce battle with the dragon and emerge victorious!\")\n",
        "    elif action == '2':\n",
        "        print(\"You attempt to sneak past the dragon, but it catches you. Game over!\")\n",
        "\n",
        "elif choice == '2':\n",
        "    print(\"You discover a treasure chest! Choose how to open it:\")\n",
        "    print(\"1. Use a key\")\n",
        "    print(\"2. Force it open\")\n",
        "\n",
        "    opening_method = input(\"Enter your choice (1/2): \")\n",
        "\n",
        "    if opening_method == '1':\n",
        "        print(\"You successfully open the chest and find a pile of gold!\")\n",
        "    elif opening_method == '2':\n",
        "        print(\"You try to force the chest open, but it's booby-trapped. Game over!\")\n",
        "\n",
        "else:\n",
        "    print(\"Invalid choice. Game over!\")\n"
      ],
      "metadata": {
        "colab": {
          "base_uri": "https://localhost:8080/"
        },
        "id": "2NQzjPwp3hBH",
        "outputId": "6cf03ba8-d6ec-4540-8bef-dd180be2e4e5"
      },
      "execution_count": null,
      "outputs": [
        {
          "output_type": "stream",
          "name": "stdout",
          "text": [
            "Welcome to the Adventure Game!\n",
            "You find yourself in a dark cave. Choose your path:\n",
            "1. Go left\n",
            "2. Go right\n",
            "Enter your choice (1/2): 1\n",
            "You encounter a dragon! Choose your action:\n",
            "1. Fight the dragon\n",
            "2. Try to sneak past\n",
            "Enter your action (1/2): 1\n",
            "You engage in a fierce battle with the dragon and emerge victorious!\n"
          ]
        }
      ]
    },
    {
      "cell_type": "code",
      "source": [
        "# 25. Build a program that solves a linear equation for x, considering different cases.\n",
        "def solve_linear_equation(a, b):\n",
        "    if a == 0:\n",
        "        if b == 0:\n",
        "            return \"Infinite solutions (all real numbers)\"\n",
        "        else:\n",
        "            return \"No solution\"\n",
        "    else:\n",
        "        x = -b / a\n",
        "        return f\"The solution is x = {x}\"\n",
        "\n",
        "# Example usage:\n",
        "coeff_a = float(input(\"Enter the coefficient 'a' of the linear equation: \"))\n",
        "coeff_b = float(input(\"Enter the coefficient 'b' of the linear equation: \"))\n",
        "solution = solve_linear_equation(coeff_a, coeff_b)\n",
        "print(solution)"
      ],
      "metadata": {
        "colab": {
          "base_uri": "https://localhost:8080/"
        },
        "id": "x-uPPBF13hId",
        "outputId": "603c2795-5155-4c9a-8419-70f2bfbfad25"
      },
      "execution_count": null,
      "outputs": [
        {
          "output_type": "stream",
          "name": "stdout",
          "text": [
            "Enter the coefficient 'a' of the linear equation: 1.5\n",
            "Enter the coefficient 'b' of the linear equation: 2.9\n",
            "The solution is x = -1.9333333333333333\n"
          ]
        }
      ]
    },
    {
      "cell_type": "code",
      "source": [
        "# 26. Write a program that simulates a basic quiz game with multiple-choice questions and scoring.\n",
        "def quiz_game(questions):\n",
        "    score = 0\n",
        "    for question, options, correct_option in questions:\n",
        "        print(question)\n",
        "        for i, option in enumerate(options, start=1):\n",
        "            print(f\"{i}. {option}\")\n",
        "\n",
        "        user_answer = int(input(\"Enter your choice (1/2/3): \"))\n",
        "        if user_answer == correct_option:\n",
        "            print(\"Correct!\\n\")\n",
        "            score += 1\n",
        "        else:\n",
        "            print(f\"Wrong! The correct answer was {correct_option}. \\n\")\n",
        "\n",
        "    print(f\"Your final score: {score}/{len(questions)}\")\n",
        "\n",
        "# Example usage:\n",
        "quiz_questions = [\n",
        "    (\"What is the capital of France?\", [\"Paris\", \"Berlin\", \"Rome\"], 1),\n",
        "    (\"Which planet is known as the Red Planet?\", [\"Mars\", \"Venus\", \"Jupiter\"], 1),\n",
        "    (\"Who wrote 'Romeo and Juliet'?\", [\"Shakespeare\", \"Hemingway\", \"Twain\"], 1),\n",
        "]\n",
        "\n",
        "quiz_game(quiz_questions)"
      ],
      "metadata": {
        "colab": {
          "base_uri": "https://localhost:8080/"
        },
        "id": "x8XQB_vm3hPE",
        "outputId": "9d772023-5d5f-49a2-d9af-980d6c3be5f6"
      },
      "execution_count": null,
      "outputs": [
        {
          "output_type": "stream",
          "name": "stdout",
          "text": [
            "What is the capital of France?\n",
            "1. Paris\n",
            "2. Berlin\n",
            "3. Rome\n",
            "Enter your choice (1/2/3): 2\n",
            "Wrong! The correct answer was 1. \n",
            "\n",
            "Which planet is known as the Red Planet?\n",
            "1. Mars\n",
            "2. Venus\n",
            "3. Jupiter\n",
            "Enter your choice (1/2/3): 3\n",
            "Wrong! The correct answer was 1. \n",
            "\n",
            "Who wrote 'Romeo and Juliet'?\n",
            "1. Shakespeare\n",
            "2. Hemingway\n",
            "3. Twain\n",
            "Enter your choice (1/2/3): 2\n",
            "Wrong! The correct answer was 1. \n",
            "\n",
            "Your final score: 0/3\n"
          ]
        }
      ]
    },
    {
      "cell_type": "code",
      "source": [
        "\n",
        "# 27. Develop a program that determines whether a given year is a prime number or not.\n",
        "def is_prime_year(year):\n",
        "    if year < 2:\n",
        "        return False\n",
        "    for i in range(2, int(year ** 0.5) + 1):\n",
        "        if year % i == 0:\n",
        "            return False\n",
        "    return True\n",
        "\n",
        "# Example usage:\n",
        "user_year = int(input(\"Enter a year to check if it's prime: \"))\n",
        "result = is_prime_year(user_year)\n",
        "print(f\"The year {user_year} is {'prime' if result else 'not prime'}.\")"
      ],
      "metadata": {
        "colab": {
          "base_uri": "https://localhost:8080/"
        },
        "id": "f8q8YpC_3hVb",
        "outputId": "aad6c280-bd35-41e6-9239-03b12b6fdc5a"
      },
      "execution_count": null,
      "outputs": [
        {
          "output_type": "stream",
          "name": "stdout",
          "text": [
            "Enter a year to check if it's prime: 56\n",
            "The year 56 is not prime.\n"
          ]
        }
      ]
    },
    {
      "cell_type": "code",
      "source": [
        "# 28. Create a program that sorts three numbers in ascending order using conditional statements.\n",
        "def sort_three_numbers(a, b, c):\n",
        "    if a <= b <= c:\n",
        "        return a, b, c\n",
        "    elif a <= c <= b:\n",
        "        return a, c, b\n",
        "    elif b <= a <= c:\n",
        "        return b, a, c\n",
        "    elif b <= c <= a:\n",
        "        return b, c, a\n",
        "    elif c <= a <= b:\n",
        "        return c, a, b\n",
        "    else:\n",
        "        return c, b, a\n",
        "\n",
        "# Example usage:\n",
        "num1 = float(input(\"Enter the first number: \"))\n",
        "num2 = float(input(\"Enter the second number: \"))\n",
        "num3 = float(input(\"Enter the third number: \"))\n",
        "sorted_numbers = sort_three_numbers(num1, num2, num3)\n",
        "print(\"Sorted numbers:\", sorted_numbers)"
      ],
      "metadata": {
        "colab": {
          "base_uri": "https://localhost:8080/"
        },
        "id": "19tadiRF3hbO",
        "outputId": "ba0ccf96-9a63-4c77-c03c-1fa3ce5559bf"
      },
      "execution_count": null,
      "outputs": [
        {
          "output_type": "stream",
          "name": "stdout",
          "text": [
            "Enter the first number: 56\n",
            "Enter the second number: 45\n",
            "Enter the third number: 23\n",
            "Sorted numbers: (23.0, 45.0, 56.0)\n"
          ]
        }
      ]
    },
    {
      "cell_type": "code",
      "source": [
        "# 29. Build a program that determines the roots of a quartic equation using numerical methods.\n",
        "\n",
        "import numpy as np\n",
        "\n",
        "def quartic_roots(a, b, c, d, e):\n",
        "\n",
        "  def f(x):\n",
        "    \"\"\"\n",
        "    The quartic function.\n",
        "    \"\"\"\n",
        "    return a * x**4 + b * x**3 + c * x**2 + d * x + e\n",
        "\n",
        "  def df(x):\n",
        "    \"\"\"\n",
        "    The derivative of the quartic function.\n",
        "    \"\"\"\n",
        "    return 4 * a * x**3 + 3 * b * x**2 + 2 * c * x + d\n",
        "\n",
        "  # Find an initial guess for a root using bisection method\n",
        "  x_min = -100\n",
        "  x_max = 100\n",
        "  while abs(f((x_min + x_max) / 2)) > 1e-6:\n",
        "    if f(x_min) * f((x_min + x_max) / 2) < 0:\n",
        "      x_max = (x_min + x_max) / 2\n",
        "    else:\n",
        "      x_min = (x_min + x_max) / 2\n",
        "\n",
        "  x_root = (x_min + x_max) / 2\n",
        "\n",
        "  # Use Newton-Raphson method to refine the root\n",
        "  while abs(f(x_root)) > 1e-6:\n",
        "    x_root -= f(x_root) / df(x_root)\n",
        "\n",
        "  # Deflate the quartic equation by dividing by (x - x_root)\n",
        "  a, b, c, d = np.polydiv([a, b, c, d, e], [1, -x_root])\n",
        "  a, b, c = np.polydiv([a, b, c, d], [1, -x_root])\n",
        "\n",
        "  # Recursively find the roots of the remaining cubic equation\n",
        "  roots = quartic_roots(a, b, c, d, e) + [x_root]\n",
        "\n",
        "  return roots\n",
        "\n",
        "# Example usage\n",
        "a = 1\n",
        "b = -5\n",
        "c = 5\n",
        "d = -4\n",
        "e = 1\n",
        "\n",
        "roots = quartic_roots(a, b, c, d, e)\n",
        "\n",
        "print(f\"Roots of the equation: {roots}\")\n"
      ],
      "metadata": {
        "id": "bIzHO0iQ-uam"
      },
      "execution_count": null,
      "outputs": []
    },
    {
      "cell_type": "code",
      "source": [
        "\n",
        "# 30. Write a program that calculates the BMI (Body Mass Index) and provides health recommendations based on the user's input.\n",
        "def calculate_bmi(weight, height):\n",
        "    bmi = weight / (height ** 2)\n",
        "    return bmi\n",
        "\n",
        "def health_recommendations(bmi):\n",
        "    if bmi < 18.5:\n",
        "        return \"Underweight: Consider gaining some weight.\"\n",
        "    elif 18.5 <= bmi < 24.9:\n",
        "        return \"Normal weight: Maintain a healthy lifestyle.\"\n",
        "    elif 25 <= bmi < 29.9:\n",
        "        return \"Overweight: Consider losing some weight for better health.\"\n",
        "    else:\n",
        "        return \"Obese: Consult with a healthcare professional for guidance.\"\n",
        "\n",
        "# Example usage:\n",
        "user_weight = float(input(\"Enter your weight in kg: \"))\n",
        "user_height = float(input(\"Enter your height in meters: \"))\n",
        "user_bmi = calculate_bmi(user_weight, user_height)\n",
        "recommendations = health_recommendations(user_bmi)\n",
        "print(recommendations)\n"
      ],
      "metadata": {
        "id": "k8tg19qB3hsF",
        "colab": {
          "base_uri": "https://localhost:8080/"
        },
        "outputId": "d0523a60-6cad-4512-c16b-09b375cb4296"
      },
      "execution_count": 44,
      "outputs": [
        {
          "output_type": "stream",
          "name": "stdout",
          "text": [
            "Enter your weight in kg: 70\n",
            "Enter your height in meters: 1.84\n",
            "Normal weight: Maintain a healthy lifestyle.\n"
          ]
        }
      ]
    },
    {
      "cell_type": "code",
      "source": [],
      "metadata": {
        "id": "8AYJ8rcV7Rn-"
      },
      "execution_count": null,
      "outputs": []
    }
  ]
}